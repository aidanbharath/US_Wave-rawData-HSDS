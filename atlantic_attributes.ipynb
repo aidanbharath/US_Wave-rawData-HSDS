{
 "cells": [
  {
   "cell_type": "code",
   "execution_count": 1,
   "metadata": {},
   "outputs": [],
   "source": [
    "from ast import literal_eval\n",
    "import numpy as np\n",
    "import os\n",
    "import pandas as pd\n",
    "import pickle\n",
    "from scipy.spatial import cKDTree\n",
    "import sys\n",
    "\n",
    "from rex.utilities.utilities import to_records_array\n",
    "\n",
    "cwd = os.getcwd()\n",
    "\n",
    "\n",
    "def check_value(dict_in):\n",
    "    dict_out = {}\n",
    "    for key, value in dict_in.items():\n",
    "        if isinstance(value, dict):\n",
    "            for k, v in value.items():\n",
    "                dict_out[key] = check_value(value)\n",
    "        else:\n",
    "            if isinstance(value, str):\n",
    "                if '/' in value:\n",
    "                    pass\n",
    "                else:\n",
    "                    dict_out[key] = value\n",
    "            else:\n",
    "                dict_out[key] = value\n",
    "    return dict_out\n",
    "\n",
    "\n",
    "def remove_paths(dict_in):\n",
    "    dict_out = {}\n",
    "    for key, value in dict_in.items():\n",
    "        if isinstance(value, dict):\n",
    "            for k, v in value.items():\n",
    "                dict_out[key] = check_value(value)\n",
    "        else:\n",
    "            if isinstance(value, str):\n",
    "                if '/' in value:\n",
    "                    pass\n",
    "                else:\n",
    "                    dict_out[key] = value\n",
    "            else:\n",
    "                dict_out[key] = value\n",
    "\n",
    "    return dict_out\n",
    "\n",
    "\n",
    "def get_size(item):\n",
    "    return sys.getsizeof(item.copy()) * 10**-6\n",
    "\n",
    "\n",
    "def get_chunk_size(item, chunk_size=2.0, thresh=0.1):\n",
    "    item_size = get_size(item)\n",
    "    item_len = len(item)\n",
    "    chunk_start = int(item_len // (item_size / chunk_size))\n",
    "    i = 0\n",
    "    while True:\n",
    "        if item_len % (chunk_start + i) == 0:\n",
    "            chunk = chunk_start + i\n",
    "            break\n",
    "        elif item_len % (chunk_start - i) == 0:\n",
    "            chunk = chunk_start - i\n",
    "            break\n",
    "        else:\n",
    "            offset_size = get_size(item[:i].copy())\n",
    "            if offset_size > chunk_size * thresh:\n",
    "                chunk = chunk_start\n",
    "                print('No unique chunk found')\n",
    "                break\n",
    "            else:\n",
    "                i += 1\n",
    "    \n",
    "    chunk_size = get_size(item[:chunk].copy())\n",
    "    print('Chunk size ({}, ) = {:.2f} MB'.format(chunk, chunk_size))\n",
    "    return chunk\n",
    "\n",
    "\n",
    "def round_to(num, round_val):\n",
    "    round_num = num - num % round_val\n",
    "    return int(round_num)\n",
    "\n",
    "\n",
    "def calc_chunks(t_chunk, dtype, chunk_size=2*10**6, round_to=None):\n",
    "    pixel_size = np.dtype(dtype).itemsize\n",
    "    s_chunk = chunk_size / (t_chunk * pixel_size)\n",
    "    \n",
    "    if round_to:\n",
    "        s_chunk = round_to(s_chunk, round_to)\n",
    "    else:\n",
    "        s_chunk = int(np.floor(s_chunk))\n",
    "    \n",
    "    return (t_chunk, s_chunk)\n",
    "\n",
    "\n",
    "box_dir = '/Users/mrossol/Box/HSDS/wave/Atlantic'"
   ]
  },
  {
   "cell_type": "markdown",
   "metadata": {},
   "source": [
    "# Atlantic\n",
    "## Meta Data"
   ]
  },
  {
   "cell_type": "code",
   "execution_count": 2,
   "metadata": {},
   "outputs": [
    {
     "output_type": "execute_result",
     "data": {
      "text/plain": [
       "     latitude  longitude  water_depth  timezone    distance jurisdiction\n",
       "gid                                                                     \n",
       "0     39.5641    -75.977       1.3426        -5  647.230065     Maryland\n",
       "1     39.5659    -75.978       1.3118        -5  432.485583     Maryland\n",
       "2     39.5661    -75.980       1.2325        -5  320.273582     Maryland\n",
       "3     39.5623    -75.977       1.3392        -5  685.832758     Maryland\n",
       "4     39.5639    -75.979       1.3020        -5  574.726957     Maryland"
      ],
      "text/html": "<div>\n<style scoped>\n    .dataframe tbody tr th:only-of-type {\n        vertical-align: middle;\n    }\n\n    .dataframe tbody tr th {\n        vertical-align: top;\n    }\n\n    .dataframe thead th {\n        text-align: right;\n    }\n</style>\n<table border=\"1\" class=\"dataframe\">\n  <thead>\n    <tr style=\"text-align: right;\">\n      <th></th>\n      <th>latitude</th>\n      <th>longitude</th>\n      <th>water_depth</th>\n      <th>timezone</th>\n      <th>distance</th>\n      <th>jurisdiction</th>\n    </tr>\n    <tr>\n      <th>gid</th>\n      <th></th>\n      <th></th>\n      <th></th>\n      <th></th>\n      <th></th>\n      <th></th>\n    </tr>\n  </thead>\n  <tbody>\n    <tr>\n      <th>0</th>\n      <td>39.5641</td>\n      <td>-75.977</td>\n      <td>1.3426</td>\n      <td>-5</td>\n      <td>647.230065</td>\n      <td>Maryland</td>\n    </tr>\n    <tr>\n      <th>1</th>\n      <td>39.5659</td>\n      <td>-75.978</td>\n      <td>1.3118</td>\n      <td>-5</td>\n      <td>432.485583</td>\n      <td>Maryland</td>\n    </tr>\n    <tr>\n      <th>2</th>\n      <td>39.5661</td>\n      <td>-75.980</td>\n      <td>1.2325</td>\n      <td>-5</td>\n      <td>320.273582</td>\n      <td>Maryland</td>\n    </tr>\n    <tr>\n      <th>3</th>\n      <td>39.5623</td>\n      <td>-75.977</td>\n      <td>1.3392</td>\n      <td>-5</td>\n      <td>685.832758</td>\n      <td>Maryland</td>\n    </tr>\n    <tr>\n      <th>4</th>\n      <td>39.5639</td>\n      <td>-75.979</td>\n      <td>1.3020</td>\n      <td>-5</td>\n      <td>574.726957</td>\n      <td>Maryland</td>\n    </tr>\n  </tbody>\n</table>\n</div>"
     },
     "metadata": {},
     "execution_count": 2
    }
   ],
   "source": [
    "meta_path = os.path.join(box_dir, 'atc_wave_meta.csv')\n",
    "columns = {'dist': 'distance_to_shore', 'lat': 'latitude', 'lon': 'longitude'}\n",
    "meta = pd.read_csv(meta_path).rename(columns=columns)\n",
    "depth_path = os.path.join(box_dir, 'atc_depth.npy')\n",
    "meta['water_depth'] = np.load(depth_path)\n",
    "meta['jurisdiction'] = meta['jurisdiction'].fillna('None')\n",
    "meta = meta.set_index('gid')\n",
    "out_path = os.path.join(box_dir, 'atlantic_wave_meta.csv')\n",
    "meta.to_csv(out_path)\n",
    "\n",
    "meta_arr = to_records_array(meta)\n",
    "\n",
    "out_path = os.path.join(box_dir, 'atlantic_wave_meta.npy')\n",
    "np.save(out_path, meta_arr)\n",
    "meta.head()"
   ]
  },
  {
   "cell_type": "markdown",
   "metadata": {},
   "source": [
    "## Time_Index and Meta Chunk Sizes"
   ]
  },
  {
   "cell_type": "code",
   "execution_count": 4,
   "metadata": {
    "ExecuteTime": {
     "end_time": "2019-08-12T20:03:04.428921Z",
     "start_time": "2019-08-12T20:03:04.414407Z"
    }
   },
   "outputs": [
    {
     "name": "stdout",
     "output_type": "stream",
     "text": [
      "(2928,)\n",
      "time_index size = 0.06 MB\n"
     ]
    }
   ],
   "source": [
    "# Hourly\n",
    "time_index = np.array(pd.date_range('2012-01-01 00:00:00', '2012-12-31 23:00:00', freq='3h').astype(str),\n",
    "                      'S20')\n",
    "\n",
    "print(time_index.shape)\n",
    "t_size = get_size(time_index)\n",
    "print('time_index size = {:.2f} MB'.format(t_size))"
   ]
  },
  {
   "cell_type": "code",
   "execution_count": 3,
   "metadata": {},
   "outputs": [
    {
     "output_type": "stream",
     "name": "stdout",
     "text": [
      "meta size = 84.32 MB\nNo unique chunk found\nChunk size (62499, ) = 2.00 MB\n"
     ]
    }
   ],
   "source": [
    "meta_path = os.path.join(box_dir, 'atlantic_wave_meta.npy')\n",
    "meta_data = np.load(meta_path)\n",
    "\n",
    "m_size = sys.getsizeof(meta_data) * 10**-6\n",
    "print('meta size = {:.2f} MB'.format(m_size))\n",
    "\n",
    "m_chunks = get_chunk_size(meta_data, thresh=0.1)"
   ]
  },
  {
   "cell_type": "code",
   "execution_count": 17,
   "metadata": {},
   "outputs": [
    {
     "output_type": "stream",
     "name": "stdout",
     "text": [
      "lat_lon size = 21.08 MB\n",
      "No unique chunk found\n",
      "Chunk size (249998, ) = 2.00 MB\n"
     ]
    }
   ],
   "source": [
    "meta_path = os.path.join(box_dir, 'atlantic_wave_meta.npy')\n",
    "meta_data = np.load(meta_path, allow_pickle=True)\n",
    "lat_lon = pd.DataFrame(meta_data)\n",
    "lat_lon = lat_lon[['latitude', 'longitude']].values.copy()\n",
    "\n",
    "c_size = sys.getsizeof(lat_lon) * 10**-6\n",
    "print('lat_lon size = {:.2f} MB'.format(c_size))\n",
    "\n",
    "c_chunks = get_chunk_size(lat_lon, thresh=0.1)"
   ]
  },
  {
   "cell_type": "markdown",
   "metadata": {},
   "source": [
    "## Variable Attributes"
   ]
  },
  {
   "cell_type": "code",
   "execution_count": 2,
   "metadata": {},
   "outputs": [],
   "source": [
    "names = {'depth': 'water_depth'}\n",
    "\n",
    "descriptions = {'depth': 'Grid node depth',\n",
    "         'mean_wave_direction': 'Direction Normal to the Wave Crests',\n",
    "         'significant_wave_height': 'Calculated as the zeroth spectral moment (i.e., H_m0)',\n",
    "         'mean_absolute_period': 'Resolved Spectral Moment (m_0/m_1)',\n",
    "         'peak_period': 'The period associated with the maximum value of the wave energy spectrum',\n",
    "         'mean_zero-crossing_period': 'Total wave energy flux from all directions',\n",
    "         'energy_period': 'Spectral width characterizes the relative spreading of energy in the wave spectrum. Large values indicate a wider spectral peak',\n",
    "         'directionality_coefficient': 'Fraction of total wave energy travelling in the \"direction of maximum wave power\" direction',\n",
    "         'maximum_energy_direction': 'The direction from which the most wave energy is travelling',\n",
    "         'omni-directional_wave_power': 'Total wave energy flux from all directions',\n",
    "         'spectral_width': 'Spectral width characterizes the relative spreading of energy in the wave spectrum. Large values indicate a wider spectral peak',\n",
    "         'maximum_energy': 'Maximum directionally resolved wave energy'}\n",
    "\n",
    "units = {'depth': 'm',\n",
    "         'mean_wave_direction': 'deg',\n",
    "         'significant_wave_height': 'm',\n",
    "         'mean_absolute_period': 's',\n",
    "         'peak_period': 's',\n",
    "         'mean_zero-crossing_period': 's',\n",
    "         'energy_period': 's',\n",
    "         'directionality_coefficient': '',\n",
    "         'maximum_energy_direction': 'deg',\n",
    "         'omni-directional_wave_power': 'W/m',\n",
    "         'spectral_width': '',\n",
    "         'maximum_energy': 'W/m'}\n",
    "\n",
    "src_names = {k : k for k in names}\n",
    "\n",
    "SWAN_names = {'depth': 'DEPTH',\n",
    "              'mean_wave_direction': 'DIR',\n",
    "              'significant_wave_height': 'HSIGN',\n",
    "              'mean_absolute_period': 'PER',\n",
    "              'peak_period': 'RTP',\n",
    "              'mean_zero-crossing_period': 'TMM10',\n",
    "              'energy_period': 'TM02',\n",
    "              'directionality_coefficient': '',\n",
    "              'maximum_energy_direction': '',\n",
    "              'omni-directional_wave_power': '',\n",
    "              'spectral_width': '',\n",
    "              'maximum_energy': 'jdmax'}\n",
    "\n",
    "IEC_names = {'depth': 'h',\n",
    "             'mean_wave_direction': 'Sigma',\n",
    "             'significant_wave_height': 'H_s',\n",
    "             'mean_absolute_period': 'T_p',\n",
    "             'peak_period': 'T_p',\n",
    "             'mean_zero-crossing_period': 'T_02',\n",
    "             'energy_period': 'T_e',\n",
    "             'directionality_coefficient': 'd',\n",
    "             'maximum_energy_direction': 'Jsigma_Jmax',\n",
    "             'omni-directional_wave_power': 'J',\n",
    "             'spectral_width': 'epsilon_o',\n",
    "             'maximum_energy': 'J_sigma_jdmax'}\n",
    "\n",
    "references = {'depth': 'SWAN Manual',\n",
    "              'mean_wave_direction': 'SWAN Manual',\n",
    "              'significant_wave_height': 'SWAN Manual, IEC62600-101',\n",
    "              'mean_absolute_period': 'SWAN Manual',\n",
    "              'peak_period': 'SWAN Manual',\n",
    "              'mean_zero-crossing_period': 'SWAN Manual, IEC62600-101',\n",
    "              'energy_period': 'IEC62600-101',\n",
    "              'directionality_coefficient': 'IEC62600-101',\n",
    "              'maximum_energy_direction': 'IEC62600-101',\n",
    "              'omni-directional_wave_power': 'IEC62600-101',\n",
    "              'spectral_width': 'IEC62600-101',\n",
    "              'maximum_energy': 'SWAN Manual, IEC62600-101'}\n",
    "\n",
    "dimensions = {'depth': ['position'],\n",
    "              'mean_wave_direction': ['time', 'position'],\n",
    "              'significant_wave_height': ['time', 'position'],\n",
    "              'mean_absolute_period': ['time', 'position'],\n",
    "              'peak_period': ['time', 'position'],\n",
    "              'mean_zero-crossing_period': ['time', 'position'],\n",
    "              'energy_period': ['time', 'posi\"tion'],\n",
    "              'directionality_coefficient': ['time', 'position'],\n",
    "              'maximum_energy_direction': ['time', 'position'],\n",
    "              'omni-directional_wave_power': ['time', 'position'],\n",
    "              'spectral_width': ['time', 'position'],\n",
    "              'maximum_energy': ['time', 'position']}"
   ]
  },
  {
   "cell_type": "code",
   "execution_count": 15,
   "metadata": {},
   "outputs": [
    {
     "output_type": "stream",
     "name": "stdout",
     "text": [
      "overlaping variables:\n['depth', 'mean_wave_direction', 'significant_wave_height', 'mean_absolute_period', 'peak_period', 'mean_zero-crossing_period', 'energy_period', 'directionality_coefficient', 'maximum_energy_direction', 'omni-directional_wave_power', 'spectral_width']\nnew variables:\n['peak_period_direction']\nmissing variables:\n['maximum_energy']\n"
     ]
    }
   ],
   "source": [
    "path = os.path.join(cwd, 'h5_attrs/atlantic_h5_attrs.json')\n",
    "wave_attrs = pd.read_json(path)\n",
    "\n",
    "atc_vars = [v for v in wave_attrs.index\n",
    "               if v not in ['coordinates', 'time_index']]\n",
    "\n",
    "overlap_vars = [v for v in units.keys() if v in atc_vars]\n",
    "new_vars = [v for v in atc_vars if v not in units]\n",
    "missing_vars = [v for v in units.keys() if v not in atc_vars]\n",
    "\n",
    "print('overlaping variables:\\n{}'.format(overlap_vars))\n",
    "print('new variables:\\n{}'.format(new_vars))\n",
    "print('missing variables:\\n{}'.format(missing_vars))"
   ]
  },
  {
   "cell_type": "code",
   "execution_count": 19,
   "metadata": {},
   "outputs": [
    {
     "output_type": "execute_result",
     "data": {
      "text/plain": [
       "                                                                         attrs  \\\n",
       "coordinates                  {'description': '(latitude, longitude) using D...   \n",
       "depth                        {'description': 'Grid node depth', 'dimensions...   \n",
       "directionality_coefficient   {'description': 'Fraction of total wave energy...   \n",
       "energy_period                {'description': 'Spectral width characterizes ...   \n",
       "maximum_energy_direction     {'description': 'The direction from which the ...   \n",
       "mean_absolute_period         {'description': 'Resolved Spectral Moment (m_0...   \n",
       "mean_wave_direction          {'description': 'Direction Normal to the Wave ...   \n",
       "mean_zero-crossing_period    {'description': 'Total wave energy flux from a...   \n",
       "omni-directional_wave_power  {'description': 'Total wave energy flux from a...   \n",
       "peak_period                  {'description': 'The period associated with th...   \n",
       "significant_wave_height      {'description': 'Calculated as the zeroth spec...   \n",
       "spectral_width               {'description': 'Spectral width characterizes ...   \n",
       "time_index                   {'freq': '3h', 'timezone': 'UTC', 'units': 'GM...   \n",
       "meta                                              {'dimensions': ['position']}   \n",
       "global                       {'ref_SWAN-Manual': 'SWAN Team, SWAN: User Man...   \n",
       "\n",
       "                                dtype       chunks         name  \n",
       "coordinates                   float32  (249998, 2)         None  \n",
       "depth                         float32         None  water_depth  \n",
       "directionality_coefficient    float32  (448, 1116)         None  \n",
       "energy_period                 float32  (448, 1116)         None  \n",
       "maximum_energy_direction      float32  (448, 1116)         None  \n",
       "mean_absolute_period          float32  (448, 1116)         None  \n",
       "mean_wave_direction           float32  (448, 1116)         None  \n",
       "mean_zero-crossing_period     float32  (448, 1116)         None  \n",
       "omni-directional_wave_power   float32  (448, 1116)         None  \n",
       "peak_period                   float32  (448, 1116)         None  \n",
       "significant_wave_height       float32  (448, 1116)         None  \n",
       "spectral_width                float32  (448, 1116)         None  \n",
       "time_index                   bytes152         None         None  \n",
       "meta                             None     (62499,)         None  \n",
       "global                           None         None         None  "
      ],
      "text/html": "<div>\n<style scoped>\n    .dataframe tbody tr th:only-of-type {\n        vertical-align: middle;\n    }\n\n    .dataframe tbody tr th {\n        vertical-align: top;\n    }\n\n    .dataframe thead th {\n        text-align: right;\n    }\n</style>\n<table border=\"1\" class=\"dataframe\">\n  <thead>\n    <tr style=\"text-align: right;\">\n      <th></th>\n      <th>attrs</th>\n      <th>dtype</th>\n      <th>chunks</th>\n      <th>name</th>\n    </tr>\n  </thead>\n  <tbody>\n    <tr>\n      <th>coordinates</th>\n      <td>{'description': '(latitude, longitude) using D...</td>\n      <td>float32</td>\n      <td>(249998, 2)</td>\n      <td>None</td>\n    </tr>\n    <tr>\n      <th>depth</th>\n      <td>{'description': 'Grid node depth', 'dimensions...</td>\n      <td>float32</td>\n      <td>None</td>\n      <td>water_depth</td>\n    </tr>\n    <tr>\n      <th>directionality_coefficient</th>\n      <td>{'description': 'Fraction of total wave energy...</td>\n      <td>float32</td>\n      <td>(448, 1116)</td>\n      <td>None</td>\n    </tr>\n    <tr>\n      <th>energy_period</th>\n      <td>{'description': 'Spectral width characterizes ...</td>\n      <td>float32</td>\n      <td>(448, 1116)</td>\n      <td>None</td>\n    </tr>\n    <tr>\n      <th>maximum_energy_direction</th>\n      <td>{'description': 'The direction from which the ...</td>\n      <td>float32</td>\n      <td>(448, 1116)</td>\n      <td>None</td>\n    </tr>\n    <tr>\n      <th>mean_absolute_period</th>\n      <td>{'description': 'Resolved Spectral Moment (m_0...</td>\n      <td>float32</td>\n      <td>(448, 1116)</td>\n      <td>None</td>\n    </tr>\n    <tr>\n      <th>mean_wave_direction</th>\n      <td>{'description': 'Direction Normal to the Wave ...</td>\n      <td>float32</td>\n      <td>(448, 1116)</td>\n      <td>None</td>\n    </tr>\n    <tr>\n      <th>mean_zero-crossing_period</th>\n      <td>{'description': 'Total wave energy flux from a...</td>\n      <td>float32</td>\n      <td>(448, 1116)</td>\n      <td>None</td>\n    </tr>\n    <tr>\n      <th>omni-directional_wave_power</th>\n      <td>{'description': 'Total wave energy flux from a...</td>\n      <td>float32</td>\n      <td>(448, 1116)</td>\n      <td>None</td>\n    </tr>\n    <tr>\n      <th>peak_period</th>\n      <td>{'description': 'The period associated with th...</td>\n      <td>float32</td>\n      <td>(448, 1116)</td>\n      <td>None</td>\n    </tr>\n    <tr>\n      <th>significant_wave_height</th>\n      <td>{'description': 'Calculated as the zeroth spec...</td>\n      <td>float32</td>\n      <td>(448, 1116)</td>\n      <td>None</td>\n    </tr>\n    <tr>\n      <th>spectral_width</th>\n      <td>{'description': 'Spectral width characterizes ...</td>\n      <td>float32</td>\n      <td>(448, 1116)</td>\n      <td>None</td>\n    </tr>\n    <tr>\n      <th>time_index</th>\n      <td>{'freq': '3h', 'timezone': 'UTC', 'units': 'GM...</td>\n      <td>bytes152</td>\n      <td>None</td>\n      <td>None</td>\n    </tr>\n    <tr>\n      <th>meta</th>\n      <td>{'dimensions': ['position']}</td>\n      <td>None</td>\n      <td>(62499,)</td>\n      <td>None</td>\n    </tr>\n    <tr>\n      <th>global</th>\n      <td>{'ref_SWAN-Manual': 'SWAN Team, SWAN: User Man...</td>\n      <td>None</td>\n      <td>None</td>\n      <td>None</td>\n    </tr>\n  </tbody>\n</table>\n</div>"
     },
     "metadata": {},
     "execution_count": 19
    }
   ],
   "source": [
    "path = os.path.join(cwd, 'h5_attrs/atlantic_h5_attrs.json')\n",
    "wave_attrs = pd.read_json(path)\n",
    "atc_vars =  list(units.keys()) + ['time_index', 'coordinates']\n",
    "mask = wave_attrs.index.isin(atc_vars)\n",
    "wave_attrs = wave_attrs.loc[mask]\n",
    "\n",
    "wave_attrs['name'] = None\n",
    "wave_attrs['attrs'] = None\n",
    "wave_attrs['chunks'] = None\n",
    "\n",
    "# 8 week hourly chunks\n",
    "t_chunk = int(8 * 7 * 24 / 3)\n",
    "for var, row in wave_attrs.iterrows():\n",
    "    \n",
    "    if var == 'time_index':\n",
    "        wave_attrs.at[var, 'attrs'] = {'freq': '3h', 'timezone': 'UTC', 'units': 'GMT', 'dimensions': ['time']}\n",
    "        wave_attrs.at[var, 'chunks'] = None\n",
    "    elif var == 'coordinates':\n",
    "        wave_attrs.at[var, 'chunks'] = (249998, 2)\n",
    "        attrs  = {'description': '(latitude, longitude) using Datum: NAD83',\n",
    "                  'src_name': '(Xp, Yp)',\n",
    "                  'units': '(deg, deg)',\n",
    "                  'dimensions': ['position']}\n",
    "        wave_attrs.at[var, 'attrs'] = attrs\n",
    "        wave_attrs.at[var, 'dtype'] = 'float32'\n",
    "    else:\n",
    "        if var == 'depth':\n",
    "            chunks = None\n",
    "        else:\n",
    "            chunks = calc_chunks(t_chunk, 'float32')\n",
    "\n",
    "        wave_attrs.at[var, 'chunks'] = chunks\n",
    "        wave_attrs.at[var , 'name'] = names.get(var, None)\n",
    "        wave_attrs.at[var, 'dtype'] = 'float32'\n",
    "        wave_attrs.at[var, 'attrs'] = {'description': descriptions[var],\n",
    "                                       'dimensions': dimensions[var],\n",
    "                                       'units': units[var],\n",
    "                                       'SWAN_name': SWAN_names[var],\n",
    "                                       'IEC_name': IEC_names[var]}\n",
    "\n",
    "# Meta data\n",
    "wave_attrs.at['meta', 'chunks'] = (62499, )\n",
    "wave_attrs.at['meta', 'dtype'] = None\n",
    "wave_attrs.at['meta', 'name'] = None\n",
    "wave_attrs.at['meta', 'attrs'] = {'dimensions': ['position']}\n",
    "\n",
    "# Global attributes\n",
    "wave_attrs.at['global', 'chunks'] = None\n",
    "wave_attrs.at['global', 'dtype'] = None\n",
    "wave_attrs.at['global', 'name'] = None\n",
    "wave_attrs.at['global', 'attrs'] = {\n",
    "    'ref_SWAN-Manual': \"SWAN Team, SWAN: User Manual, Delft University of Technology, Delft, The Netherlands, Cycle III Version 41.31, 2019.\",\n",
    "    \"ref_IEC62600-101\": \"International Electrotechnical Commission, Marine energy - Wave, tidal and other water current converters - Part 101: Wave energy resource assessment and characterization, Technical Specification 62600–101, 2015.\",\n",
    "    \"ref_Wu-Wang-Yang-Garcia-Medina-2020\": \"W.C. Wu, T. Wang, Z. Yang, and G. García-Medina, “Development and validation of a high-resolution regional wave hindcast model for U.S. West Coast wave resource characterization,” Renewable Energy, vol. 152, pp. 736–753, Jun. 2020.\",\n",
    "    \"source\": \"PNNL2019\", \"version\": \"v1.0.0\"}\n",
    "\n",
    "path = os.path.join(cwd, 'hsds_attrs/atlantic_hsds_attrs.json')\n",
    "wave_attrs.to_json(path, indent=4)\n",
    "wave_attrs"
   ]
  },
  {
   "cell_type": "markdown",
   "metadata": {},
   "source": [
    "## Virtual Buoy"
   ]
  },
  {
   "cell_type": "code",
   "execution_count": 2,
   "metadata": {},
   "outputs": [],
   "source": [
    "names = {'depth': 'water_depth'}\n",
    "\n",
    "descriptions = {'depth': 'Grid node depth',\n",
    "         'mean_wave_direction': 'Direction Normal to the Wave Crests',\n",
    "         'significant_wave_height': 'Calculated as the zeroth spectral moment (i.e., H_m0)',\n",
    "         'mean_absolute_period': 'Resolved Spectral Moment (m_0/m_1)',\n",
    "         'peak_period': 'The period associated with the maximum value of the wave energy spectrum',\n",
    "         'mean_zero-crossing_period': 'Total wave energy flux from all directions',\n",
    "         'energy_period': 'Spectral width characterizes the relative spreading of energy in the wave spectrum. Large values indicate a wider spectral peak',\n",
    "         'directionality_coefficient': 'Fraction of total wave energy travelling in the \"direction of maximum wave power\" direction',\n",
    "         'maximum_energy_direction': 'The direction from which the most wave energy is travelling',\n",
    "         'omni-directional_wave_power': 'Total wave energy flux from all directions',\n",
    "         'spectral_width': 'Spectral width characterizes the relative spreading of energy in the wave spectrum. Large values indicate a wider spectral peak',\n",
    "         'directional_wave_spectrum': 'Variance density over the i^th frequency and j^th direction (m^2Hz^-1deg^-1)',\n",
    "         'direction': 'direction of wave propagation based on epsg:4326 (deg)',\n",
    "         'frequency': 'i^th discrete frequency (Hz)',\n",
    "         'frequency_bin_edges': 'Frequency bin definition: [Low Edge, High Edge)'}\n",
    "\n",
    "units = {'depth': 'm',\n",
    "         'mean_wave_direction': 'deg',\n",
    "         'significant_wave_height': 'm',\n",
    "         'mean_absolute_period': 's',\n",
    "         'peak_period': 's',\n",
    "         'mean_zero-crossing_period': 's',\n",
    "         'energy_period': 's',\n",
    "         'directionality_coefficient': '',\n",
    "         'maximum_energy_direction': 'deg',\n",
    "         'omni-directional_wave_power': 'W/m',\n",
    "         'spectral_width': '',\n",
    "         'directional_wave_spectrum': 'm^2 Hz^-1 deg^-1',\n",
    "         'direction': 'deg',\n",
    "         'frequency': 'Hz',\n",
    "         'frequency_bin_edges': 'Hz'}\n",
    "\n",
    "src_names = {k : k for k in names}\n",
    "src_names['directional_wave_spectrum'] = 'energy'\n",
    "\n",
    "SWAN_names = {'depth': 'DEPTH',\n",
    "         'mean_wave_direction': 'DIR',\n",
    "         'significant_wave_height': 'HSIGN',\n",
    "         'mean_absolute_period': 'PER',\n",
    "         'peak_period': 'RTP',\n",
    "         'mean_zero-crossing_period': 'TMM10',\n",
    "         'energy_period': 'TM02',\n",
    "         'directionality_coefficient': '',\n",
    "         'maximum_energy_direction': '',\n",
    "         'omni-directional_wave_power': '',\n",
    "         'spectral_width': '',\n",
    "         'directional_wave_spectrum': 'energy',\n",
    "         'frequency': 'frequency',\n",
    "         'direction': 'direction',\n",
    "         'frequency_bin_edges': ''}\n",
    "\n",
    "IEC_names = {'depth': 'h',\n",
    "         'mean_wave_direction': 'Sigma',\n",
    "         'significant_wave_height': 'H_s',\n",
    "         'mean_absolute_period': 'T_p',\n",
    "         'peak_period': 'T_p',\n",
    "         'mean_zero-crossing_period': 'T_02',\n",
    "         'energy_period': 'T_e',\n",
    "         'directionality_coefficient': 'd',\n",
    "         'maximum_energy_direction': 'Jsigma_Jmax',\n",
    "         'omni-directional_wave_power': 'J',\n",
    "         'spectral_width': 'epsilon_o',\n",
    "         'directional_wave_spectrum': 'S_ij',\n",
    "         'direction': 'Sigma',\n",
    "         'frequency': 'f_i',\n",
    "         'frequency_bin_edges': ''}\n",
    "\n",
    "references = {'depth': 'SWAN Manual',\n",
    "         'mean_wave_direction': 'SWAN Manual',\n",
    "         'significant_wave_height': 'SWAN Manual, IEC62600-101',\n",
    "         'mean_absolute_period': 'SWAN Manual',\n",
    "         'peak_period': 'SWAN Manual',\n",
    "         'mean_zero-crossing_period': 'SWAN Manual, IEC62600-101',\n",
    "         'energy_period': 'IEC62600-101',\n",
    "         'directionality_coefficient': 'IEC62600-101',\n",
    "         'maximum_energy_direction': 'IEC62600-101',\n",
    "         'omni-directional_wave_power': 'IEC62600-101',\n",
    "         'spectral_width': 'IEC62600-101',\n",
    "         'directional_wave_spectrum': 'IEC62600-101',\n",
    "         'direction': 'IEC62600-101',\n",
    "         'frequency': 'IEC62600-101',\n",
    "         'frequency_bin_edges': 'IEC62600-101'}\n",
    "\n",
    "dimensions = {'depth': ['position'],\n",
    "         'mean_wave_direction': ['time', 'position'],\n",
    "         'significant_wave_height': ['time', 'position'],\n",
    "         'mean_absolute_period': ['time', 'position'],\n",
    "         'peak_period': ['time', 'position'],\n",
    "         'mean_zero-crossing_period': ['time', 'position'],\n",
    "         'energy_period': ['time', 'position'],\n",
    "         'directionality_coefficient': ['time', 'position'],\n",
    "         'maximum_energy_direction': ['time', 'position'],\n",
    "         'omni-directional_wave_power': ['time', 'position'],\n",
    "         'spectral_width': ['time', 'position'], \n",
    "         'directional_wave_spectrum': ['time', 'frequency', 'direction', 'position'],\n",
    "         'direction': ['direction'],\n",
    "         'frequency': ['frequency'],\n",
    "         'frequency_bin_edges': ['frequency', '[Low Edge, High Edge)']}"
   ]
  },
  {
   "cell_type": "code",
   "execution_count": 3,
   "metadata": {},
   "outputs": [
    {
     "output_type": "display_data",
     "data": {
      "text/plain": "          latitude  longitude  water_depth  timezone       distance  \\\ngid                                                                   \n1678233  34.645000 -72.616997    4493.5870        -5  272086.423416   \n1257163  31.760000 -74.839996    3989.4292        -5  353025.583587   \n1083508  32.500999 -79.098999      37.5564        -5   61537.401911   \n808024   31.400000 -80.867996      18.0829        -5   31927.622340   \n534252   28.500999 -80.183998      41.1719        -5   33751.699827   \n\n        jurisdiction  \ngid                   \n1678233      Federal  \n1257163      Federal  \n1083508      Federal  \n808024       Federal  \n534252       Federal  ",
      "text/html": "<div>\n<style scoped>\n    .dataframe tbody tr th:only-of-type {\n        vertical-align: middle;\n    }\n\n    .dataframe tbody tr th {\n        vertical-align: top;\n    }\n\n    .dataframe thead th {\n        text-align: right;\n    }\n</style>\n<table border=\"1\" class=\"dataframe\">\n  <thead>\n    <tr style=\"text-align: right;\">\n      <th></th>\n      <th>latitude</th>\n      <th>longitude</th>\n      <th>water_depth</th>\n      <th>timezone</th>\n      <th>distance</th>\n      <th>jurisdiction</th>\n    </tr>\n    <tr>\n      <th>gid</th>\n      <th></th>\n      <th></th>\n      <th></th>\n      <th></th>\n      <th></th>\n      <th></th>\n    </tr>\n  </thead>\n  <tbody>\n    <tr>\n      <th>1678233</th>\n      <td>34.645000</td>\n      <td>-72.616997</td>\n      <td>4493.5870</td>\n      <td>-5</td>\n      <td>272086.423416</td>\n      <td>Federal</td>\n    </tr>\n    <tr>\n      <th>1257163</th>\n      <td>31.760000</td>\n      <td>-74.839996</td>\n      <td>3989.4292</td>\n      <td>-5</td>\n      <td>353025.583587</td>\n      <td>Federal</td>\n    </tr>\n    <tr>\n      <th>1083508</th>\n      <td>32.500999</td>\n      <td>-79.098999</td>\n      <td>37.5564</td>\n      <td>-5</td>\n      <td>61537.401911</td>\n      <td>Federal</td>\n    </tr>\n    <tr>\n      <th>808024</th>\n      <td>31.400000</td>\n      <td>-80.867996</td>\n      <td>18.0829</td>\n      <td>-5</td>\n      <td>31927.622340</td>\n      <td>Federal</td>\n    </tr>\n    <tr>\n      <th>534252</th>\n      <td>28.500999</td>\n      <td>-80.183998</td>\n      <td>41.1719</td>\n      <td>-5</td>\n      <td>33751.699827</td>\n      <td>Federal</td>\n    </tr>\n  </tbody>\n</table>\n</div>"
     },
     "metadata": {}
    },
    {
     "output_type": "execute_result",
     "data": {
      "text/plain": [
       "latitude        float32\n",
       "longitude       float32\n",
       "water_depth     float64\n",
       "timezone          int64\n",
       "distance        float64\n",
       "jurisdiction     object\n",
       "dtype: object"
      ]
     },
     "metadata": {},
     "execution_count": 3
    }
   ],
   "source": [
    "meta_path = os.path.join(box_dir, 'atlantic_wave_meta.csv')\n",
    "meta = pd.read_csv(meta_path)\n",
    "meta = meta.set_index('gid')\n",
    "tree = cKDTree(meta[['latitude', 'longitude']].values)\n",
    "\n",
    "path = os.path.join(box_dir, 'atlantic_buoy_coords.npy')\n",
    "coords = np.load(path)\n",
    "\n",
    "_, pos = tree.query(coords[:, ::-1])\n",
    "\n",
    "buoy_meta = meta.loc[pos]\n",
    "buoy_meta['latitude'] = coords[:, 1]\n",
    "buoy_meta['longitude'] = coords[:, 0]\n",
    "display(buoy_meta.head())\n",
    "buoy_meta.dtypes"
   ]
  },
  {
   "cell_type": "code",
   "execution_count": 4,
   "metadata": {},
   "outputs": [],
   "source": [
    "meta_arr = to_records_array(buoy_meta)\n",
    "\n",
    "out_path = os.path.join(box_dir, 'atlantic_buoy_meta.npy')\n",
    "np.save(out_path, meta_arr)"
   ]
  },
  {
   "cell_type": "code",
   "execution_count": 10,
   "metadata": {
    "tags": []
   },
   "outputs": [
    {
     "output_type": "stream",
     "name": "stdout",
     "text": [
      "meta size = 0.004 MB\nChunk size (127, ) = 0.00 MB\n"
     ]
    }
   ],
   "source": [
    "meta_path = os.path.join(box_dir, 'atlantic_buoy_meta.npy')\n",
    "meta_data = np.load(meta_path)\n",
    "\n",
    "m_size = sys.getsizeof(meta_data) * 10**-6\n",
    "print('meta size = {:.3f} MB'.format(m_size))\n",
    "\n",
    "m_chunks = get_chunk_size(meta_data, thresh=0.1)"
   ]
  },
  {
   "cell_type": "code",
   "execution_count": 11,
   "metadata": {
    "tags": []
   },
   "outputs": [
    {
     "output_type": "stream",
     "name": "stdout",
     "text": [
      "lat_lon size = 0.001 MB\n",
      "Chunk size (127, ) = 0.00 MB\n"
     ]
    }
   ],
   "source": [
    "meta_path = os.path.join(box_dir, 'atlantic_buoy_meta.npy')\n",
    "meta_data = np.load(meta_path, allow_pickle=True)\n",
    "lat_lon = pd.DataFrame(meta_data)\n",
    "lat_lon = lat_lon[['latitude', 'longitude']].values.copy()\n",
    "\n",
    "c_size = sys.getsizeof(lat_lon) * 10**-6\n",
    "print('lat_lon size = {:.3f} MB'.format(c_size))\n",
    "\n",
    "c_chunks = get_chunk_size(lat_lon, thresh=0.1)"
   ]
  },
  {
   "cell_type": "code",
   "execution_count": 18,
   "metadata": {
    "tags": []
   },
   "outputs": [
    {
     "output_type": "stream",
     "name": "stdout",
     "text": [
      "dset size = 4.450 MB\ndset size = 2.134 MB\n"
     ]
    }
   ],
   "source": [
    "dset_arr = np.ones((8760, 127), dtype='float32')\n",
    "dset_size = sys.getsizeof(dset_arr) * 10**-6\n",
    "print('dset size = {:.3f} MB'.format(dset_size))\n",
    "\n",
    "dset_arr = np.ones((8760, 60), dtype='float32')\n",
    "dset_size = sys.getsizeof(dset_arr) * 10**-6\n",
    "print('dset size = {:.3f} MB'.format(dset_size))"
   ]
  },
  {
   "cell_type": "code",
   "execution_count": 15,
   "metadata": {
    "tags": []
   },
   "outputs": [
    {
     "output_type": "stream",
     "name": "stdout",
     "text": [
      "energy size = 3097.256 MB\n",
      "energy size = 2.151 MB\n"
     ]
    }
   ],
   "source": [
    "dset_arr = np.ones((8760, 29, 24, 127), dtype='float32')\n",
    "dset_size = sys.getsizeof(dset_arr) * 10**-6\n",
    "print('energy size = {:.3f} MB'.format(dset_size))\n",
    "\n",
    "dset_arr = np.ones((8*7*24, 5, 4, 20), dtype='float32')\n",
    "dset_size = sys.getsizeof(dset_arr) * 10**-6\n",
    "print('energy size = {:.3f} MB'.format(dset_size))"
   ]
  },
  {
   "cell_type": "code",
   "execution_count": 8,
   "metadata": {},
   "outputs": [
    {
     "output_type": "execute_result",
     "data": {
      "text/plain": [
       "                                                                         attrs  \\\n",
       "coordinates                  {'description': '(latitude, longitude) using D...   \n",
       "depth                        {'description': 'Grid node depth', 'dimensions...   \n",
       "direction                    {'description': 'direction of wave propagation...   \n",
       "directional_wave_spectrum    {'description': 'Variance density over the i^t...   \n",
       "energy_period                {'description': 'Spectral width characterizes ...   \n",
       "frequency                    {'description': 'i^th discrete frequency (Hz)'...   \n",
       "maximum_energy_direction     {'description': 'The direction from which the ...   \n",
       "mean_wave_direction          {'description': 'Direction Normal to the Wave ...   \n",
       "mean_zero-crossing_period    {'description': 'Total wave energy flux from a...   \n",
       "omni-directional_wave_power  {'description': 'Total wave energy flux from a...   \n",
       "peak_period                  {'description': 'The period associated with th...   \n",
       "significant_wave_height      {'description': 'Calculated as the zeroth spec...   \n",
       "spectral_width               {'description': 'Spectral width characterizes ...   \n",
       "time_index                   {'freq': '1h', 'timezone': 'UTC', 'units': 'GM...   \n",
       "meta                                              {'dimensions': ['position']}   \n",
       "global                       {'ref_SWAN-Manual': 'SWAN Team, SWAN: User Man...   \n",
       "\n",
       "                                dtype            chunks         name  \n",
       "coordinates                   float32              None         None  \n",
       "depth                         float32              None  water_depth  \n",
       "direction                     float32              None         None  \n",
       "directional_wave_spectrum     float32  (1344, 5, 4, 20)         None  \n",
       "energy_period                 float32        (None, 60)         None  \n",
       "frequency                     float32              None         None  \n",
       "maximum_energy_direction      float32        (None, 60)         None  \n",
       "mean_wave_direction           float32        (None, 60)         None  \n",
       "mean_zero-crossing_period     float32        (None, 60)         None  \n",
       "omni-directional_wave_power   float32        (None, 60)         None  \n",
       "peak_period                   float32        (None, 60)         None  \n",
       "significant_wave_height       float32        (None, 60)         None  \n",
       "spectral_width                float32        (None, 60)         None  \n",
       "time_index                   bytes152              None         None  \n",
       "meta                             None              None         None  \n",
       "global                           None              None         None  "
      ],
      "text/html": "<div>\n<style scoped>\n    .dataframe tbody tr th:only-of-type {\n        vertical-align: middle;\n    }\n\n    .dataframe tbody tr th {\n        vertical-align: top;\n    }\n\n    .dataframe thead th {\n        text-align: right;\n    }\n</style>\n<table border=\"1\" class=\"dataframe\">\n  <thead>\n    <tr style=\"text-align: right;\">\n      <th></th>\n      <th>attrs</th>\n      <th>dtype</th>\n      <th>chunks</th>\n      <th>name</th>\n    </tr>\n  </thead>\n  <tbody>\n    <tr>\n      <th>coordinates</th>\n      <td>{'description': '(latitude, longitude) using D...</td>\n      <td>float32</td>\n      <td>None</td>\n      <td>None</td>\n    </tr>\n    <tr>\n      <th>depth</th>\n      <td>{'description': 'Grid node depth', 'dimensions...</td>\n      <td>float32</td>\n      <td>None</td>\n      <td>water_depth</td>\n    </tr>\n    <tr>\n      <th>direction</th>\n      <td>{'description': 'direction of wave propagation...</td>\n      <td>float32</td>\n      <td>None</td>\n      <td>None</td>\n    </tr>\n    <tr>\n      <th>directional_wave_spectrum</th>\n      <td>{'description': 'Variance density over the i^t...</td>\n      <td>float32</td>\n      <td>(1344, 5, 4, 20)</td>\n      <td>None</td>\n    </tr>\n    <tr>\n      <th>energy_period</th>\n      <td>{'description': 'Spectral width characterizes ...</td>\n      <td>float32</td>\n      <td>(None, 60)</td>\n      <td>None</td>\n    </tr>\n    <tr>\n      <th>frequency</th>\n      <td>{'description': 'i^th discrete frequency (Hz)'...</td>\n      <td>float32</td>\n      <td>None</td>\n      <td>None</td>\n    </tr>\n    <tr>\n      <th>maximum_energy_direction</th>\n      <td>{'description': 'The direction from which the ...</td>\n      <td>float32</td>\n      <td>(None, 60)</td>\n      <td>None</td>\n    </tr>\n    <tr>\n      <th>mean_wave_direction</th>\n      <td>{'description': 'Direction Normal to the Wave ...</td>\n      <td>float32</td>\n      <td>(None, 60)</td>\n      <td>None</td>\n    </tr>\n    <tr>\n      <th>mean_zero-crossing_period</th>\n      <td>{'description': 'Total wave energy flux from a...</td>\n      <td>float32</td>\n      <td>(None, 60)</td>\n      <td>None</td>\n    </tr>\n    <tr>\n      <th>omni-directional_wave_power</th>\n      <td>{'description': 'Total wave energy flux from a...</td>\n      <td>float32</td>\n      <td>(None, 60)</td>\n      <td>None</td>\n    </tr>\n    <tr>\n      <th>peak_period</th>\n      <td>{'description': 'The period associated with th...</td>\n      <td>float32</td>\n      <td>(None, 60)</td>\n      <td>None</td>\n    </tr>\n    <tr>\n      <th>significant_wave_height</th>\n      <td>{'description': 'Calculated as the zeroth spec...</td>\n      <td>float32</td>\n      <td>(None, 60)</td>\n      <td>None</td>\n    </tr>\n    <tr>\n      <th>spectral_width</th>\n      <td>{'description': 'Spectral width characterizes ...</td>\n      <td>float32</td>\n      <td>(None, 60)</td>\n      <td>None</td>\n    </tr>\n    <tr>\n      <th>time_index</th>\n      <td>{'freq': '1h', 'timezone': 'UTC', 'units': 'GM...</td>\n      <td>bytes152</td>\n      <td>None</td>\n      <td>None</td>\n    </tr>\n    <tr>\n      <th>meta</th>\n      <td>{'dimensions': ['position']}</td>\n      <td>None</td>\n      <td>None</td>\n      <td>None</td>\n    </tr>\n    <tr>\n      <th>global</th>\n      <td>{'ref_SWAN-Manual': 'SWAN Team, SWAN: User Man...</td>\n      <td>None</td>\n      <td>None</td>\n      <td>None</td>\n    </tr>\n  </tbody>\n</table>\n</div>"
     },
     "metadata": {},
     "execution_count": 8
    }
   ],
   "source": [
    "path = os.path.join(cwd, 'h5_attrs/atlantic_buoy_h5_attrs.json')\n",
    "buoy_attrs = pd.read_json(path)\n",
    "\n",
    "buoy_attrs['name'] = None\n",
    "buoy_attrs['attrs'] = None\n",
    "\n",
    "for var, row in buoy_attrs.iterrows():\n",
    "\n",
    "    if var == 'time_index':\n",
    "        buoy_attrs.at[var, 'attrs'] = {'freq': '1h', 'timezone': 'UTC', 'units': 'GMT', 'dimensions': ['time']}\n",
    "        buoy_attrs.at[var, 'chunks'] = None\n",
    "    elif var == 'coordinates':\n",
    "        buoy_attrs.at[var, 'chunks'] = None\n",
    "        attrs  = {'description': '(latitude, longitude) using Datum: NAD83',\n",
    "                  'src_name': '(Xp, Yp)',\n",
    "                  'units': '(deg, deg)',\n",
    "                  'dimensions': ['position']}\n",
    "        buoy_attrs.at[var, 'attrs'] = attrs\n",
    "    else:\n",
    "        if var == 'directional_wave_spectrum':\n",
    "            chunks = (8*7*24, 5, 4, 20)\n",
    "        elif var in ['depth', 'direction', 'frequency']:\n",
    "            chunks = None\n",
    "        else:\n",
    "            chunks = (None, 60)\n",
    "\n",
    "        attrs = {'description': descriptions[var],\n",
    "                 'dimensions': dimensions[var],\n",
    "                 'units': units[var],\n",
    "                 'SWAN_name': SWAN_names[var],\n",
    "                 'IEC_name': IEC_names[var]}\n",
    "        src_name = src_names.get(var)\n",
    "        if src_name:\n",
    "            attrs['src_name'] = src_name\n",
    "\n",
    "        buoy_attrs.at[var, 'chunks'] = chunks\n",
    "        buoy_attrs.at[var, 'dtype'] = 'float32'\n",
    "        buoy_attrs.at[var , 'name'] = names.get(var)\n",
    "        buoy_attrs.at[var, 'attrs'] = attrs\n",
    "\n",
    "# Meta data\n",
    "buoy_attrs.at['meta', 'chunks'] = None\n",
    "buoy_attrs.at['meta', 'dtype'] = None\n",
    "buoy_attrs.at['meta', 'name'] = None\n",
    "buoy_attrs.at['meta', 'attrs'] = {'dimensions': ['position']}\n",
    "\n",
    "# Global attributes\n",
    "buoy_attrs.at['global', 'chunks'] = None\n",
    "buoy_attrs.at['global', 'dtype'] = None\n",
    "buoy_attrs.at['global', 'name'] = None\n",
    "buoy_attrs.at['global', 'attrs'] = {\n",
    "    'ref_SWAN-Manual': \"SWAN Team, SWAN: User Manual, Delft University of Technology, Delft, The Netherlands, Cycle III Version 41.31, 2019.\",\n",
    "    \"ref_IEC62600-101\": \"International Electrotechnical Commission, Marine energy - Wave, tidal and other water current converters - Part 101: Wave energy resource assessment and characterization, Technical Specification 62600–101, 2015.\",\n",
    "    \"ref_Wu-Wang-Yang-Garcia-Medina-2020\": \"W.C. Wu, T. Wang, Z. Yang, and G. García-Medina, “Development and validation of a high-resolution regional wave hindcast model for U.S. West Coast wave resource characterization,” Renewable Energy, vol. 152, pp. 736–753, Jun. 2020.\",\n",
    "    \"source\": \"PNNL2019\", \"version\": \"v1.0.0\"}\n",
    "\n",
    "path = os.path.join(cwd, 'hsds_attrs/atlantic_buoy_hsds_attrs.json')\n",
    "buoy_attrs.to_json(path, indent=4)\n",
    "buoy_attrs"
   ]
  },
  {
   "cell_type": "code",
   "execution_count": null,
   "metadata": {},
   "outputs": [],
   "source": []
  }
 ],
 "metadata": {
  "kernelspec": {
   "name": "python376jvsc74a57bd03d0c08120343c0f8c504a0673eae6f22ce29b84d6bafcf5b3dcdcdc11ed3d0f9",
   "display_name": "Python 3.7.6 64-bit ('hsds': conda)"
  },
  "language_info": {
   "codemirror_mode": {
    "name": "ipython",
    "version": 3
   },
   "file_extension": ".py",
   "mimetype": "text/x-python",
   "name": "python",
   "nbconvert_exporter": "python",
   "pygments_lexer": "ipython3",
   "version": "3.7.6-final"
  },
  "metadata": {
   "interpreter": {
    "hash": "3d0c08120343c0f8c504a0673eae6f22ce29b84d6bafcf5b3dcdcdc11ed3d0f9"
   }
  }
 },
 "nbformat": 4,
 "nbformat_minor": 2
}